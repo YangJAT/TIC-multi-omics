{
 "cells": [
  {
   "cell_type": "code",
   "execution_count": null,
   "id": "da2453ba",
   "metadata": {},
   "outputs": [],
   "source": [
    "import sys\n",
    "\n",
    "if \"google.colab\" in sys.modules:\n",
    "    !pip install -q git+https://github.com/theislab/cellrank@dev\n",
    "    !pip install python-igraph\n",
    "\n",
    "import os\n",
    "import scvelo as scv\n",
    "import scanpy as sc\n",
    "import cellrank as cr\n",
    "import numpy as np\n",
    "import pandas as pd\n",
    "import anndata as ad\n",
    "from matplotlib.colors import ListedColormap\n",
    "\n",
    "scv.settings.verbosity = 3\n",
    "cr.settings.verbosity = 2\n",
    "\n",
    "import warnings\n",
    "\n",
    "warnings.simplefilter(\"ignore\", category=UserWarning)\n",
    "warnings.simplefilter(\"ignore\", category=FutureWarning)\n",
    "warnings.simplefilter(\"ignore\", category=DeprecationWarning)\n",
    "\n",
    "scv.settings.presenter_view = True  # set max width size for presenter view\n",
    "scv.set_figure_params('scvelo')  # for beautified visualization"
   ]
  },
  {
   "cell_type": "code",
   "execution_count": null,
   "id": "9a7cd3f9",
   "metadata": {},
   "outputs": [],
   "source": [
    "wdir = \"/home/ug0302/CITEseq/savedata/cellrank\"\n",
    "os.chdir(wdir)"
   ]
  },
  {
   "cell_type": "code",
   "execution_count": null,
   "id": "99936a16",
   "metadata": {},
   "outputs": [],
   "source": [
    "i = \"PLCPR5\"\n",
    "\n",
    "obs = pd.read_csv(i + \"/cellname.txt\")\n",
    "var_names = pd.read_csv(i + \"/genename.txt\")\n",
    "\n",
    "X = pd.read_csv(i + \"/matrix.txt\", sep = \"\\t\", index_col = 0)\n",
    "splice = pd.read_csv(i + \"/splice.txt\", sep = \"\\t\", index_col = 0)\n",
    "unsplice = pd.read_csv(i + \"/unsplice.txt\", sep = \"\\t\", index_col = 0)\n",
    "\n",
    "obs.index = obs.x\n",
    "X.index = obs.x\n",
    "splice.index = obs.x\n",
    "unsplice.index = obs.x\n",
    "var_names.index = X.columns\n",
    "\n",
    "adata = ad.AnnData(X, obs = obs, var = var_names)\n",
    "adata.layers[\"unspliced\"] = unsplice\n",
    "adata.layers[\"spliced\"] = splice\n",
    "\n",
    "umap = pd.read_csv(i + \"/coord_\" + i + \".txt\", sep = '\\t', index_col = 0)\n",
    "adata.obsm['X_umap'] = umap.values\n",
    "\n",
    "info = pd.read_csv(i + \"/info_protein_\" + i + \".txt\", sep = '\\t', index_col = 0)\n",
    "adata.obs = pd.concat([adata.obs, info], axis = 1)\n",
    "\n",
    "scv.pp.filter_and_normalize(adata, min_shared_counts = 20, n_top_genes = 2000)\n",
    "scv.tl.score_genes_cell_cycle(adata)\n",
    "sc.pp.regress_out(adata, ['S_score', 'G2M_score'], n_jobs = 10)\n",
    "scv.pp.moments(adata, n_pcs = 30, n_neighbors = 30)"
   ]
  },
  {
   "cell_type": "markdown",
   "id": "7464a974",
   "metadata": {},
   "source": [
    "### Run scVelo"
   ]
  },
  {
   "cell_type": "code",
   "execution_count": null,
   "id": "116db79c",
   "metadata": {},
   "outputs": [],
   "source": [
    "model = [\"deterministic\",\"stochastic\",\"dynamical\"]\n",
    "col = [\"#0070b2\",\"#009bc7\",\"#5ec7dd\",\"#b8e3ea\",\"#f3f3f1\",\"#fccdb9\",\"#f79676\",\"#f15e4c\",\"#da1735\"]\n",
    "col = ListedColormap(col)\n",
    "\n",
    "for j in model:\n",
    "    scv.tl.recover_dynamics(adata, n_jobs = 50)\n",
    "    scv.tl.velocity(adata, mode = j)\n",
    "    scv.tl.velocity_graph(adata)\n",
    "    \n",
    "    scv.pl.velocity_embedding_stream(adata, basis = \"umap\", size = 200, alpha = 1,\n",
    "                                 color = \"CD49f\", color_map = col, # matplotlib color map\n",
    "                                 legend_fontsize = 12, title = \"\", smooth = 0.9, min_mass = 3,\n",
    "                                 dpi = 900, figsize = (6,5), save = i + \"_\" + j + \".png\")"
   ]
  },
  {
   "cell_type": "markdown",
   "id": "1a307e63",
   "metadata": {},
   "source": [
    "### Run CellRank"
   ]
  },
  {
   "cell_type": "code",
   "execution_count": null,
   "id": "7594582f",
   "metadata": {},
   "outputs": [],
   "source": [
    "cr.tl.initial_states(adata, cluster_key = \"clusters\", n_states = 1)\n",
    "cr.pl.initial_states(adata, discrete = True)"
   ]
  },
  {
   "cell_type": "code",
   "execution_count": null,
   "id": "ae7eb6ba",
   "metadata": {},
   "outputs": [],
   "source": [
    "cr.tl.terminal_states(adata, cluster_key=\"clusters\", weight_connectivities=0.2)\n",
    "cr.pl.terminal_states(adata)"
   ]
  },
  {
   "cell_type": "code",
   "execution_count": null,
   "id": "8987a18b",
   "metadata": {},
   "outputs": [],
   "source": [
    "scv.tl.recover_latent_time(adata, root_key = \"initial_states_probs\", end_key = \"terminal_states_probs\")\n",
    "sc.pl.umap(adata, color = ['latent_time'], size = 100)"
   ]
  }
 ],
 "metadata": {
  "kernelspec": {
   "display_name": "cellrank",
   "language": "python",
   "name": "cellrank"
  },
  "language_info": {
   "codemirror_mode": {
    "name": "ipython",
    "version": 3
   },
   "file_extension": ".py",
   "mimetype": "text/x-python",
   "name": "python",
   "nbconvert_exporter": "python",
   "pygments_lexer": "ipython3",
   "version": "3.8.5"
  }
 },
 "nbformat": 4,
 "nbformat_minor": 5
}
