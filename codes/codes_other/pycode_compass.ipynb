{
 "cells": [
  {
   "cell_type": "code",
   "execution_count": 1,
   "id": "e9eefdb1",
   "metadata": {},
   "outputs": [],
   "source": [
    "import os\n",
    "import numpy as np\n",
    "import pandas as pd"
   ]
  },
  {
   "cell_type": "code",
   "execution_count": 2,
   "id": "72155b16",
   "metadata": {},
   "outputs": [],
   "source": [
    "wdir = \"/home/ug0302/CITEseq/savedata/compass\"\n",
    "os.chdir(wdir)"
   ]
  },
  {
   "cell_type": "code",
   "execution_count": null,
   "id": "e5741167",
   "metadata": {},
   "outputs": [],
   "source": [
    "current_directory = os.getcwd()\n",
    "files = os.listdir(current_directory)\n",
    "\n",
    "for i in files:\n",
    "    \n",
    "    input = wdir + \"/\" + i + \"/\" + i + \"_metacell.tsv\"\n",
    "    output = wdir + \"/\" + i\n",
    "    \n",
    "    !compass --data {input} \\\n",
    "    --num-processes 50 \\\n",
    "    --species homo_sapiens \\\n",
    "    --output-dir {output}"
   ]
  }
 ],
 "metadata": {
  "kernelspec": {
   "display_name": "compass",
   "language": "python",
   "name": "compass"
  },
  "language_info": {
   "codemirror_mode": {
    "name": "ipython",
    "version": 3
   },
   "file_extension": ".py",
   "mimetype": "text/x-python",
   "name": "python",
   "nbconvert_exporter": "python",
   "pygments_lexer": "ipython3",
   "version": "3.8.16"
  }
 },
 "nbformat": 4,
 "nbformat_minor": 5
}
